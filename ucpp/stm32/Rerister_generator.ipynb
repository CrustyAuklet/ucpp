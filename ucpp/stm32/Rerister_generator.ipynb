{
 "cells": [
  {
   "cell_type": "code",
   "execution_count": null,
   "metadata": {
    "ExecuteTime": {
     "end_time": "2019-11-20T13:14:18.974797Z",
     "start_time": "2019-11-20T13:14:18.960194Z"
    }
   },
   "outputs": [],
   "source": [
    "import xmltodict"
   ]
  },
  {
   "cell_type": "code",
   "execution_count": null,
   "metadata": {
    "ExecuteTime": {
     "end_time": "2019-11-20T13:14:22.009131Z",
     "start_time": "2019-11-20T13:14:21.558222Z"
    }
   },
   "outputs": [],
   "source": [
    "with open(\"./STM32F7_svd/STM32F7_svd_V1.4/STM32F7x6.svd\",'r') as xf:\n",
    "    desc = xmltodict.parse(xf.read())"
   ]
  },
  {
   "cell_type": "code",
   "execution_count": null,
   "metadata": {
    "ExecuteTime": {
     "end_time": "2019-11-20T17:43:24.231153Z",
     "start_time": "2019-11-20T17:43:24.141792Z"
    }
   },
   "outputs": [],
   "source": [
    "def prnt(item, indent):\n",
    "    if hasattr(item,'prnt'):\n",
    "        return item.prnt(indent)\n",
    "    elif type(item) is dict:\n",
    "        return\"\".join([\n",
    "            (\" \"*indent) +name+\": \"+prnt(subitem, indent+2)+\"\\n\" for name,subitem in item.items()\n",
    "        ])\n",
    "    else:\n",
    "        return str(item)\n",
    "        \n",
    "\n",
    "\n",
    "class SVDElement:\n",
    "    def __init__(self, dic, parse_table):\n",
    "        for name,value in dic.items():\n",
    "            if type(name) is str:\n",
    "                self.__dict__[name.replace('@','')]=parse_table.get(name, lambda s,p : str(s) )(value, parse_table)\n",
    "    \n",
    "    def prnt(self, indent=0):\n",
    "        return\"\".join([(\" \"*indent) +name+\": \"+prnt(item, indent+2)+'\\n' for name,item in self.__dict__.items()])\n",
    "        \n",
    "    def __repr__(self):\n",
    "        return self.prnt()\n",
    "\n",
    "class Field(SVDElement):\n",
    "    def __init__(self, field, parse_table):\n",
    "        super(Field, self).__init__(field, parse_table)\n",
    "        \n",
    "    def to_cpp(self, reg_type):\n",
    "        start = self.bitOffset\n",
    "        stop = start + self.bitWidth - 1\n",
    "        if start == stop:\n",
    "            return f\"bitfield_t<{reg_type},{start}> {self.name};\\n\"\n",
    "        return f\"bitfield_t<{reg_type},{start},{stop}> {self.name};\\n\"\n",
    "\n",
    "class Register(SVDElement):\n",
    "    def __init__(self, reg, parse_table):\n",
    "        super(Register, self).__init__(reg, parse_table)\n",
    "        \n",
    "    def __eq__(self, other):\n",
    "        return self.name == other.name\n",
    "    \n",
    "    def to_cpp(self):\n",
    "        name = self.name\n",
    "        reg_type = self.name+\"_t\"\n",
    "        offset = self.addressOffset\n",
    "        if self.size == 32:\n",
    "            str_type = 'uint32_t'\n",
    "        elif self.size == 16:\n",
    "            str_type = 'uint16_t'\n",
    "        return f\"\"\"struct {reg_type}:reg_t<{str_type}, base_address+{offset}>\n",
    "{{\n",
    "    {\"\".join([bitfield.to_cpp(reg_type) for bitfield in self.fields.values()])} }}{self.name};\"\"\"+\"\\n\"\n",
    "        \n",
    "class Peripheral(SVDElement):\n",
    "    def __init__(self,periph, parse_table):\n",
    "        super(Peripheral, self).__init__(periph, parse_table)\n",
    "    def __eq__(self, other):\n",
    "        return self.registers.keys() == other.registers.keys()\n",
    "    \n",
    "    def to_cpp(self):\n",
    "        return f\"\"\"\n",
    "template<uint32_t base_address>\n",
    "struct {self.name}_t\n",
    "{{\n",
    "    {\"\".join([register.to_cpp() for register in self.registers.values()])}\n",
    "}};\n",
    "            \"\"\"+\"\\n\"\n",
    "        \n",
    "class Device(SVDElement):\n",
    "    def __init__(self,dev , parse_table):\n",
    "        super(Device, self).__init__(dev, parse_table)\n",
    "        \n",
    "_ctors_parse_table={\n",
    "    'field': Field,\n",
    "    'register':Register,\n",
    "    'peripheral':Peripheral,\n",
    "}\n",
    "\n",
    "def listify(item_or_list):\n",
    "    if type(item_or_list) is list:\n",
    "        return item_or_list\n",
    "    else:\n",
    "        return [item_or_list]\n",
    "\n",
    "def ctor(key, dic, parse_table):\n",
    "    return _ctors_parse_table[key](dic[key], parse_table)\n",
    "\n",
    "_parse_table={\n",
    "    'addressOffset':lambda s,p : int(s,16),\n",
    "    'bitOffset':lambda s,p : int(s),\n",
    "    'bitWidth':lambda s,p : int(s),\n",
    "    'size': lambda s,p  : int(s,16),\n",
    "    'resetValue': lambda s,p : int(s,16),\n",
    "    'fields': lambda item,parse_table : { field['name']:Field(field,parse_table) for field in listify(item[\"field\"])},\n",
    "    'registers': lambda item,parse_table : { register['name']:Register(register,parse_table) for register in listify(item[\"register\"])},\n",
    "    'peripherals': lambda item,parse_table : { peripheral['name']:Peripheral(peripheral,parse_table) for peripheral in listify(item[\"peripheral\"])},\n",
    "}\n",
    "\n",
    "d = Device(desc['device'],_parse_table)\n",
    "for p in d.peripherals.values():\n",
    "    if hasattr(p,'derivedFrom'):\n",
    "        p.__dict__['registers']=d.peripherals[p.derivedFrom].registers"
   ]
  },
  {
   "cell_type": "code",
   "execution_count": null,
   "metadata": {
    "ExecuteTime": {
     "end_time": "2019-11-20T17:43:24.941872Z",
     "start_time": "2019-11-20T17:43:24.936675Z"
    }
   },
   "outputs": [],
   "source": [
    "def all_same(device, periph_name):\n",
    "    periphs = [p for n,p in device.peripherals.items() if periph_name in n]\n",
    "    return all([[periph]*len(periphs)==periphs for periph in periphs])\n",
    "\n",
    "all_same(d,'GPIO')\n",
    "all_same(d,'SPI')"
   ]
  },
  {
   "cell_type": "code",
   "execution_count": null,
   "metadata": {
    "ExecuteTime": {
     "end_time": "2019-11-20T17:43:25.664726Z",
     "start_time": "2019-11-20T17:43:25.660385Z"
    }
   },
   "outputs": [],
   "source": [
    "d.peripherals.keys()"
   ]
  },
  {
   "cell_type": "code",
   "execution_count": null,
   "metadata": {
    "ExecuteTime": {
     "end_time": "2019-11-20T17:43:26.401930Z",
     "start_time": "2019-11-20T17:43:26.397098Z"
    },
    "scrolled": false
   },
   "outputs": [],
   "source": [
    "rcc = d.peripherals[\"RCC\"].to_cpp()\n",
    "with open('rcc.hpp', 'w') as f:\n",
    "    f.write(f\"\"\"\n",
    "#pragma once\n",
    "#include <stdint.h>\n",
    "#include \"../register.hpp\"\n",
    "\n",
    "\n",
    "using namespace ucpp::registers;\n",
    "namespace ucpp::stm32::rcc {{\n",
    "{rcc}\n",
    "}}\n",
    "    \"\"\")"
   ]
  },
  {
   "cell_type": "code",
   "execution_count": null,
   "metadata": {
    "ExecuteTime": {
     "end_time": "2019-11-20T15:05:16.878281Z",
     "start_time": "2019-11-20T15:05:16.869056Z"
    }
   },
   "outputs": [],
   "source": [
    "d.peripherals[\"GPIOB\"]"
   ]
  }
 ],
 "metadata": {
  "kernelspec": {
   "display_name": "Python 3",
   "language": "python",
   "name": "python3"
  },
  "language_info": {
   "codemirror_mode": {
    "name": "ipython",
    "version": 3
   },
   "file_extension": ".py",
   "mimetype": "text/x-python",
   "name": "python",
   "nbconvert_exporter": "python",
   "pygments_lexer": "ipython3",
   "version": "3.7.5"
  },
  "toc": {
   "base_numbering": 1,
   "nav_menu": {},
   "number_sections": true,
   "sideBar": true,
   "skip_h1_title": false,
   "title_cell": "Table of Contents",
   "title_sidebar": "Contents",
   "toc_cell": false,
   "toc_position": {},
   "toc_section_display": true,
   "toc_window_display": false
  },
  "varInspector": {
   "cols": {
    "lenName": 16,
    "lenType": 16,
    "lenVar": 40
   },
   "kernels_config": {
    "python": {
     "delete_cmd_postfix": "",
     "delete_cmd_prefix": "del ",
     "library": "var_list.py",
     "varRefreshCmd": "print(var_dic_list())"
    },
    "r": {
     "delete_cmd_postfix": ") ",
     "delete_cmd_prefix": "rm(",
     "library": "var_list.r",
     "varRefreshCmd": "cat(var_dic_list()) "
    }
   },
   "types_to_exclude": [
    "module",
    "function",
    "builtin_function_or_method",
    "instance",
    "_Feature"
   ],
   "window_display": false
  }
 },
 "nbformat": 4,
 "nbformat_minor": 2
}
